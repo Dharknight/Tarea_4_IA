{
 "cells": [
  {
   "cell_type": "code",
   "execution_count": 57,
   "metadata": {},
   "outputs": [],
   "source": [
    "import numpy as np\n",
    "import pandas as pd\n",
    "import pathlib\n",
    "import os\n",
    "\n",
    "from sklearn.model_selection import train_test_split\n",
    "\n",
    "import tensorflow as tf\n",
    "\n",
    "from sklearn.metrics import r2_score"
   ]
  },
  {
   "cell_type": "code",
   "execution_count": 67,
   "metadata": {},
   "outputs": [],
   "source": [
    "img_paths = ['data/img2/{}'.format(img) for img in os.listdir('./data/img2/')]"
   ]
  },
  {
   "cell_type": "code",
   "execution_count": 71,
   "metadata": {},
   "outputs": [
    {
     "data": {
      "text/html": [
       "<div>\n",
       "<style scoped>\n",
       "    .dataframe tbody tr th:only-of-type {\n",
       "        vertical-align: middle;\n",
       "    }\n",
       "\n",
       "    .dataframe tbody tr th {\n",
       "        vertical-align: top;\n",
       "    }\n",
       "\n",
       "    .dataframe thead th {\n",
       "        text-align: right;\n",
       "    }\n",
       "</style>\n",
       "<table border=\"1\" class=\"dataframe\">\n",
       "  <thead>\n",
       "    <tr style=\"text-align: right;\">\n",
       "      <th></th>\n",
       "      <th>SepalLengthCm</th>\n",
       "      <th>SepalWidthCm</th>\n",
       "      <th>PetalLengthCm</th>\n",
       "      <th>PetalWidthCm</th>\n",
       "    </tr>\n",
       "  </thead>\n",
       "  <tbody>\n",
       "    <tr>\n",
       "      <th>0</th>\n",
       "      <td>5.1</td>\n",
       "      <td>3.5</td>\n",
       "      <td>1.4</td>\n",
       "      <td>0.2</td>\n",
       "    </tr>\n",
       "    <tr>\n",
       "      <th>1</th>\n",
       "      <td>4.9</td>\n",
       "      <td>3.0</td>\n",
       "      <td>1.4</td>\n",
       "      <td>0.2</td>\n",
       "    </tr>\n",
       "    <tr>\n",
       "      <th>2</th>\n",
       "      <td>4.7</td>\n",
       "      <td>3.2</td>\n",
       "      <td>1.3</td>\n",
       "      <td>0.2</td>\n",
       "    </tr>\n",
       "    <tr>\n",
       "      <th>3</th>\n",
       "      <td>4.6</td>\n",
       "      <td>3.1</td>\n",
       "      <td>1.5</td>\n",
       "      <td>0.2</td>\n",
       "    </tr>\n",
       "    <tr>\n",
       "      <th>4</th>\n",
       "      <td>5.0</td>\n",
       "      <td>3.6</td>\n",
       "      <td>1.4</td>\n",
       "      <td>0.2</td>\n",
       "    </tr>\n",
       "    <tr>\n",
       "      <th>...</th>\n",
       "      <td>...</td>\n",
       "      <td>...</td>\n",
       "      <td>...</td>\n",
       "      <td>...</td>\n",
       "    </tr>\n",
       "    <tr>\n",
       "      <th>145</th>\n",
       "      <td>6.7</td>\n",
       "      <td>3.0</td>\n",
       "      <td>5.2</td>\n",
       "      <td>2.3</td>\n",
       "    </tr>\n",
       "    <tr>\n",
       "      <th>146</th>\n",
       "      <td>6.3</td>\n",
       "      <td>2.5</td>\n",
       "      <td>5.0</td>\n",
       "      <td>1.9</td>\n",
       "    </tr>\n",
       "    <tr>\n",
       "      <th>147</th>\n",
       "      <td>6.5</td>\n",
       "      <td>3.0</td>\n",
       "      <td>5.2</td>\n",
       "      <td>2.0</td>\n",
       "    </tr>\n",
       "    <tr>\n",
       "      <th>148</th>\n",
       "      <td>6.2</td>\n",
       "      <td>3.4</td>\n",
       "      <td>5.4</td>\n",
       "      <td>2.3</td>\n",
       "    </tr>\n",
       "    <tr>\n",
       "      <th>149</th>\n",
       "      <td>5.9</td>\n",
       "      <td>3.0</td>\n",
       "      <td>5.1</td>\n",
       "      <td>1.8</td>\n",
       "    </tr>\n",
       "  </tbody>\n",
       "</table>\n",
       "<p>150 rows × 4 columns</p>\n",
       "</div>"
      ],
      "text/plain": [
       "     SepalLengthCm  SepalWidthCm  PetalLengthCm  PetalWidthCm\n",
       "0              5.1           3.5            1.4           0.2\n",
       "1              4.9           3.0            1.4           0.2\n",
       "2              4.7           3.2            1.3           0.2\n",
       "3              4.6           3.1            1.5           0.2\n",
       "4              5.0           3.6            1.4           0.2\n",
       "..             ...           ...            ...           ...\n",
       "145            6.7           3.0            5.2           2.3\n",
       "146            6.3           2.5            5.0           1.9\n",
       "147            6.5           3.0            5.2           2.0\n",
       "148            6.2           3.4            5.4           2.3\n",
       "149            5.9           3.0            5.1           1.8\n",
       "\n",
       "[150 rows x 4 columns]"
      ]
     },
     "execution_count": 71,
     "metadata": {},
     "output_type": "execute_result"
    }
   ],
   "source": [
    "dataset = pd.read_csv('./data/csv/Iris.csv').drop([\"Id\", \"Species\"], axis=1)\n",
    "\n",
    "dataset"
   ]
  },
  {
   "cell_type": "code",
   "execution_count": 189,
   "metadata": {},
   "outputs": [],
   "source": [
    "data = pd.DataFrame({\n",
    "    \"Filepath\": [x for x in img_paths],\n",
    "    \"SepalLenght\": dataset[\"SepalLengthCm\"],\n",
    "    \"SepalWidth\": dataset[\"SepalWidthCm\"],\n",
    "    \"PetalLength\": dataset[\"PetalLengthCm\"],\n",
    "    \"PetalWidth\": dataset[\"PetalWidthCm\"]\n",
    "})"
   ]
  },
  {
   "cell_type": "code",
   "execution_count": 178,
   "metadata": {},
   "outputs": [],
   "source": [
    "image_df = data.sample(150, random_state=1).reset_index(drop=True)\n",
    "\n",
    "train_df, test_df = train_test_split(image_df, train_size=0.7, shuffle=True, random_state=1)"
   ]
  },
  {
   "cell_type": "code",
   "execution_count": 179,
   "metadata": {},
   "outputs": [],
   "source": [
    "train_generator = tf.keras.preprocessing.image.ImageDataGenerator(\n",
    "    rescale=1./255,\n",
    "    validation_split=0.2\n",
    ")\n",
    "\n",
    "test_generator = tf.keras.preprocessing.image.ImageDataGenerator(\n",
    "    rescale=1./255\n",
    ")"
   ]
  },
  {
   "cell_type": "code",
   "execution_count": 180,
   "metadata": {},
   "outputs": [
    {
     "data": {
      "text/html": [
       "<div>\n",
       "<style scoped>\n",
       "    .dataframe tbody tr th:only-of-type {\n",
       "        vertical-align: middle;\n",
       "    }\n",
       "\n",
       "    .dataframe tbody tr th {\n",
       "        vertical-align: top;\n",
       "    }\n",
       "\n",
       "    .dataframe thead th {\n",
       "        text-align: right;\n",
       "    }\n",
       "</style>\n",
       "<table border=\"1\" class=\"dataframe\">\n",
       "  <thead>\n",
       "    <tr style=\"text-align: right;\">\n",
       "      <th></th>\n",
       "      <th>Filepath</th>\n",
       "      <th>SepalLenght</th>\n",
       "      <th>SepalWidth</th>\n",
       "      <th>PetalLength</th>\n",
       "      <th>PetalWidth</th>\n",
       "    </tr>\n",
       "  </thead>\n",
       "  <tbody>\n",
       "    <tr>\n",
       "      <th>118</th>\n",
       "      <td>data/img2/iris-virginica-7.png</td>\n",
       "      <td>6.5</td>\n",
       "      <td>3.0</td>\n",
       "      <td>5.2</td>\n",
       "      <td>2.0</td>\n",
       "    </tr>\n",
       "    <tr>\n",
       "      <th>18</th>\n",
       "      <td>data/img2/iris-setosa-38.png</td>\n",
       "      <td>5.4</td>\n",
       "      <td>3.4</td>\n",
       "      <td>1.5</td>\n",
       "      <td>0.4</td>\n",
       "    </tr>\n",
       "    <tr>\n",
       "      <th>4</th>\n",
       "      <td>data/img2/iris-virginica-38.png</td>\n",
       "      <td>7.9</td>\n",
       "      <td>3.8</td>\n",
       "      <td>6.4</td>\n",
       "      <td>2.0</td>\n",
       "    </tr>\n",
       "    <tr>\n",
       "      <th>45</th>\n",
       "      <td>data/img2/iris-virginica-26.png</td>\n",
       "      <td>7.7</td>\n",
       "      <td>2.6</td>\n",
       "      <td>6.9</td>\n",
       "      <td>2.3</td>\n",
       "    </tr>\n",
       "    <tr>\n",
       "      <th>59</th>\n",
       "      <td>data/img2/iris-versicolor-50.png</td>\n",
       "      <td>5.7</td>\n",
       "      <td>3.0</td>\n",
       "      <td>4.2</td>\n",
       "      <td>1.2</td>\n",
       "    </tr>\n",
       "    <tr>\n",
       "      <th>...</th>\n",
       "      <td>...</td>\n",
       "      <td>...</td>\n",
       "      <td>...</td>\n",
       "      <td>...</td>\n",
       "      <td>...</td>\n",
       "    </tr>\n",
       "    <tr>\n",
       "      <th>133</th>\n",
       "      <td>data/img2/iris-setosa-16.png</td>\n",
       "      <td>5.0</td>\n",
       "      <td>3.4</td>\n",
       "      <td>1.5</td>\n",
       "      <td>0.2</td>\n",
       "    </tr>\n",
       "    <tr>\n",
       "      <th>137</th>\n",
       "      <td>data/img2/iris-versicolor-1.png</td>\n",
       "      <td>7.0</td>\n",
       "      <td>3.2</td>\n",
       "      <td>4.7</td>\n",
       "      <td>1.4</td>\n",
       "    </tr>\n",
       "    <tr>\n",
       "      <th>72</th>\n",
       "      <td>data/img2/iris-virginica-44.png</td>\n",
       "      <td>6.0</td>\n",
       "      <td>3.0</td>\n",
       "      <td>4.8</td>\n",
       "      <td>1.8</td>\n",
       "    </tr>\n",
       "    <tr>\n",
       "      <th>140</th>\n",
       "      <td>data/img2/iris-setosa-32.png</td>\n",
       "      <td>5.0</td>\n",
       "      <td>3.0</td>\n",
       "      <td>1.6</td>\n",
       "      <td>0.2</td>\n",
       "    </tr>\n",
       "    <tr>\n",
       "      <th>37</th>\n",
       "      <td>data/img2/iris-setosa-35.png</td>\n",
       "      <td>5.2</td>\n",
       "      <td>3.4</td>\n",
       "      <td>1.4</td>\n",
       "      <td>0.2</td>\n",
       "    </tr>\n",
       "  </tbody>\n",
       "</table>\n",
       "<p>105 rows × 5 columns</p>\n",
       "</div>"
      ],
      "text/plain": [
       "                             Filepath  SepalLenght  SepalWidth  PetalLength  \\\n",
       "118    data/img2/iris-virginica-7.png          6.5         3.0          5.2   \n",
       "18       data/img2/iris-setosa-38.png          5.4         3.4          1.5   \n",
       "4     data/img2/iris-virginica-38.png          7.9         3.8          6.4   \n",
       "45    data/img2/iris-virginica-26.png          7.7         2.6          6.9   \n",
       "59   data/img2/iris-versicolor-50.png          5.7         3.0          4.2   \n",
       "..                                ...          ...         ...          ...   \n",
       "133      data/img2/iris-setosa-16.png          5.0         3.4          1.5   \n",
       "137   data/img2/iris-versicolor-1.png          7.0         3.2          4.7   \n",
       "72    data/img2/iris-virginica-44.png          6.0         3.0          4.8   \n",
       "140      data/img2/iris-setosa-32.png          5.0         3.0          1.6   \n",
       "37       data/img2/iris-setosa-35.png          5.2         3.4          1.4   \n",
       "\n",
       "     PetalWidth  \n",
       "118         2.0  \n",
       "18          0.4  \n",
       "4           2.0  \n",
       "45          2.3  \n",
       "59          1.2  \n",
       "..          ...  \n",
       "133         0.2  \n",
       "137         1.4  \n",
       "72          1.8  \n",
       "140         0.2  \n",
       "37          0.2  \n",
       "\n",
       "[105 rows x 5 columns]"
      ]
     },
     "execution_count": 180,
     "metadata": {},
     "output_type": "execute_result"
    }
   ],
   "source": [
    "train_df"
   ]
  },
  {
   "cell_type": "code",
   "execution_count": 182,
   "metadata": {},
   "outputs": [
    {
     "name": "stdout",
     "output_type": "stream",
     "text": [
      "Found 84 validated image filenames.\n",
      "Found 21 validated image filenames.\n",
      "Found 45 validated image filenames.\n"
     ]
    }
   ],
   "source": [
    "train_images = train_generator.flow_from_dataframe(\n",
    "    dataframe=train_df,\n",
    "    x_col='Filepath',\n",
    "    y_col=['SepalLenght', 'SepalWidth', 'PetalLength', 'PetalWidth'],\n",
    "    target_size=(256, 256),\n",
    "    color_mode='rgb',\n",
    "    class_mode='raw',\n",
    "    batch_size=32,\n",
    "    shuffle=True,\n",
    "    seed=42,\n",
    "    subset='training'\n",
    ")\n",
    "\n",
    "val_images = train_generator.flow_from_dataframe(\n",
    "    dataframe=train_df,\n",
    "    x_col='Filepath',\n",
    "    y_col=['SepalLenght', 'SepalWidth', 'PetalLength', 'PetalWidth'],\n",
    "    target_size=(256, 256),\n",
    "    color_mode='rgb',\n",
    "    class_mode='raw',\n",
    "    batch_size=32,\n",
    "    shuffle=True,\n",
    "    seed=42,\n",
    "    subset='validation'\n",
    ")\n",
    "\n",
    "test_images = test_generator.flow_from_dataframe(\n",
    "    dataframe=test_df,\n",
    "    x_col='Filepath',\n",
    "    y_col=['SepalLenght', 'SepalWidth', 'PetalLength', 'PetalWidth'],\n",
    "    target_size=(256, 256),\n",
    "    color_mode='rgb',\n",
    "    class_mode='raw',\n",
    "    batch_size=32,\n",
    "    shuffle=False\n",
    ")"
   ]
  },
  {
   "cell_type": "code",
   "execution_count": 183,
   "metadata": {},
   "outputs": [
    {
     "name": "stdout",
     "output_type": "stream",
     "text": [
      "Epoch 1/15\n",
      "3/3 [==============================] - 2s 402ms/step - loss: 14.9114 - val_loss: 15.2873\n",
      "Epoch 2/15\n",
      "3/3 [==============================] - 1s 329ms/step - loss: 13.9809 - val_loss: 14.1264\n",
      "Epoch 3/15\n",
      "3/3 [==============================] - 1s 328ms/step - loss: 12.6684 - val_loss: 12.4542\n",
      "Epoch 4/15\n",
      "3/3 [==============================] - 1s 387ms/step - loss: 10.5875 - val_loss: 10.2010\n",
      "Epoch 5/15\n",
      "3/3 [==============================] - 1s 329ms/step - loss: 8.2623 - val_loss: 7.3976\n",
      "Epoch 6/15\n",
      "3/3 [==============================] - 1s 330ms/step - loss: 5.5545 - val_loss: 4.7475\n",
      "Epoch 7/15\n",
      "3/3 [==============================] - 1s 336ms/step - loss: 3.1715 - val_loss: 3.6840\n",
      "Epoch 8/15\n",
      "3/3 [==============================] - 1s 386ms/step - loss: 3.0369 - val_loss: 4.1908\n",
      "Epoch 9/15\n",
      "3/3 [==============================] - 1s 327ms/step - loss: 3.2708 - val_loss: 3.7106\n",
      "Epoch 10/15\n",
      "3/3 [==============================] - 1s 338ms/step - loss: 2.5109 - val_loss: 3.0512\n",
      "Epoch 11/15\n",
      "3/3 [==============================] - 1s 335ms/step - loss: 1.9809 - val_loss: 3.0404\n",
      "Epoch 12/15\n",
      "3/3 [==============================] - 1s 390ms/step - loss: 2.0566 - val_loss: 3.2635\n",
      "Epoch 13/15\n",
      "3/3 [==============================] - 1s 326ms/step - loss: 2.2145 - val_loss: 3.3031\n",
      "Epoch 14/15\n",
      "3/3 [==============================] - 1s 329ms/step - loss: 2.1884 - val_loss: 3.1353\n",
      "Epoch 15/15\n",
      "3/3 [==============================] - 1s 331ms/step - loss: 2.0354 - val_loss: 3.0024\n"
     ]
    }
   ],
   "source": [
    "inputs = tf.keras.Input(shape=(256, 256, 3))\n",
    "x = tf.keras.layers.Conv2D(filters=16, kernel_size=(3, 3), activation='relu')(inputs)\n",
    "x = tf.keras.layers.MaxPool2D()(x)\n",
    "x = tf.keras.layers.Conv2D(filters=32, kernel_size=(3, 3), activation='relu')(x)\n",
    "x = tf.keras.layers.MaxPool2D()(x)\n",
    "x = tf.keras.layers.GlobalAveragePooling2D()(x)\n",
    "x = tf.keras.layers.Dense(64, activation='relu')(x)\n",
    "x = tf.keras.layers.Dense(64, activation='relu')(x)\n",
    "outputs = tf.keras.layers.Dense(4, activation='relu')(x)\n",
    "\n",
    "model = tf.keras.Model(inputs=inputs, outputs=outputs)\n",
    "\n",
    "model.compile(\n",
    "    optimizer='adam',\n",
    "    loss='mse'\n",
    ")\n",
    "\n",
    "history = model.fit(\n",
    "    train_images,\n",
    "    validation_data=val_images,\n",
    "    epochs=15,\n",
    "    callbacks=[\n",
    "        tf.keras.callbacks.EarlyStopping(\n",
    "            monitor='val_loss',\n",
    "            patience=5,\n",
    "            restore_best_weights=True\n",
    "        )\n",
    "    ]\n",
    ")"
   ]
  },
  {
   "cell_type": "code",
   "execution_count": 170,
   "metadata": {},
   "outputs": [
    {
     "data": {
      "text/plain": [
       "<keras.preprocessing.image.DataFrameIterator at 0x2921ddf5670>"
      ]
     },
     "execution_count": 170,
     "metadata": {},
     "output_type": "execute_result"
    }
   ],
   "source": [
    "test_images"
   ]
  },
  {
   "cell_type": "code",
   "execution_count": 184,
   "metadata": {},
   "outputs": [
    {
     "name": "stdout",
     "output_type": "stream",
     "text": [
      "WARNING:tensorflow:6 out of the last 14 calls to <function Model.make_predict_function.<locals>.predict_function at 0x0000029222C6A550> triggered tf.function retracing. Tracing is expensive and the excessive number of tracings could be due to (1) creating @tf.function repeatedly in a loop, (2) passing tensors with different shapes, (3) passing Python objects instead of tensors. For (1), please define your @tf.function outside of the loop. For (2), @tf.function has reduce_retracing=True option that can avoid unnecessary retracing. For (3), please refer to https://www.tensorflow.org/guide/function#controlling_retracing and https://www.tensorflow.org/api_docs/python/tf/function for  more details.\n",
      "2/2 [==============================] - 0s 31ms/step\n"
     ]
    },
    {
     "data": {
      "text/plain": [
       "array([[5.6682987 , 3.038423  , 2.902896  , 1.1685958 ],\n",
       "       [3.9244907 , 2.1137552 , 2.0205288 , 0.8129194 ],\n",
       "       [5.8373523 , 3.1286864 , 2.9867575 , 1.2022854 ],\n",
       "       [6.1702557 , 3.3079958 , 3.1653392 , 1.283871  ],\n",
       "       [6.0338154 , 3.232147  , 3.0881224 , 1.2423741 ],\n",
       "       [4.269561  , 2.2971897 , 2.1940234 , 0.8817031 ],\n",
       "       [7.4181514 , 3.9684095 , 3.7939343 , 1.5264286 ],\n",
       "       [5.651455  , 3.0293531 , 2.888953  , 1.1728017 ],\n",
       "       [5.5073996 , 2.9550686 , 2.8276665 , 1.1370959 ],\n",
       "       [6.449293  , 3.451454  , 3.2997494 , 1.3174871 ],\n",
       "       [5.7990847 , 3.1103048 , 2.980008  , 1.1937323 ],\n",
       "       [5.6534395 , 3.031692  , 2.8996503 , 1.1536772 ],\n",
       "       [5.7362614 , 3.0761456 , 2.9441469 , 1.1856239 ],\n",
       "       [4.2884645 , 2.3070035 , 2.2047591 , 0.8911199 ],\n",
       "       [5.2212334 , 2.8024116 , 2.6724603 , 1.0750227 ],\n",
       "       [7.864077  , 4.2058425 , 4.031617  , 1.5961809 ],\n",
       "       [5.6589174 , 3.033955  , 2.9020147 , 1.1595869 ],\n",
       "       [4.7282867 , 2.54143   , 2.426172  , 0.99364156],\n",
       "       [3.798749  , 2.045914  , 1.9530201 , 0.7865099 ],\n",
       "       [6.998845  , 3.746211  , 3.5866113 , 1.4460784 ],\n",
       "       [6.054849  , 3.2430656 , 3.1032534 , 1.24452   ],\n",
       "       [6.0349607 , 3.2373474 , 3.0986936 , 1.2413124 ],\n",
       "       [3.7216363 , 2.006491  , 1.9156733 , 0.7644902 ],\n",
       "       [5.10357   , 2.7379773 , 2.6158638 , 1.0496997 ],\n",
       "       [6.1555176 , 3.3008428 , 3.154759  , 1.2608774 ],\n",
       "       [4.8031077 , 2.579414  , 2.4667034 , 0.9938517 ],\n",
       "       [6.7453604 , 3.612232  , 3.4592314 , 1.3921136 ],\n",
       "       [6.0815983 , 3.2590659 , 3.1177127 , 1.2620021 ],\n",
       "       [3.6107767 , 1.9464214 , 1.858192  , 0.754912  ],\n",
       "       [5.907768  , 3.169869  , 3.0348597 , 1.2326847 ],\n",
       "       [5.9824543 , 3.205028  , 3.0630994 , 1.2387708 ],\n",
       "       [6.4657693 , 3.4632564 , 3.3155274 , 1.3330811 ],\n",
       "       [5.4308577 , 2.9129972 , 2.7868657 , 1.1138238 ],\n",
       "       [5.5351324 , 2.969174  , 2.8414574 , 1.1417779 ],\n",
       "       [5.7969885 , 3.1077604 , 2.9704194 , 1.1922935 ],\n",
       "       [6.3894815 , 3.4205174 , 3.2745218 , 1.3099122 ],\n",
       "       [6.188608  , 3.315813  , 3.1727154 , 1.2779725 ],\n",
       "       [7.8592963 , 4.200882  , 4.019994  , 1.6042988 ],\n",
       "       [5.997775  , 3.215333  , 3.0771952 , 1.2347028 ],\n",
       "       [6.3052034 , 3.3752346 , 3.2309573 , 1.2898504 ],\n",
       "       [5.719512  , 3.0671005 , 2.9349608 , 1.177697  ],\n",
       "       [6.565545  , 3.5149837 , 3.365254  , 1.3515539 ],\n",
       "       [5.835516  , 3.128209  , 2.9932172 , 1.2009645 ],\n",
       "       [6.076145  , 3.2538855 , 3.1086042 , 1.2566316 ],\n",
       "       [5.6322002 , 3.0192165 , 2.8901117 , 1.1621926 ]], dtype=float32)"
      ]
     },
     "execution_count": 184,
     "metadata": {},
     "output_type": "execute_result"
    }
   ],
   "source": [
    "model.predict(test_images)"
   ]
  },
  {
   "cell_type": "code",
   "execution_count": 194,
   "metadata": {},
   "outputs": [
    {
     "name": "stdout",
     "output_type": "stream",
     "text": [
      "1/1 [==============================] - 0s 21ms/step\n"
     ]
    },
    {
     "data": {
      "text/plain": [
       "array([[1525.1606 ,  810.01117,  777.0977 ,  311.85217]], dtype=float32)"
      ]
     },
     "execution_count": 194,
     "metadata": {},
     "output_type": "execute_result"
    }
   ],
   "source": [
    "img = tf.keras.preprocessing.image.load_img('data/img2/iris-setosa-43.png', target_size=(256,256))\n",
    "img = tf.keras.preprocessing.image.img_to_array(img)\n",
    "img = np.expand_dims(img, axis=0)\n",
    "\n",
    "model.predict(img)"
   ]
  },
  {
   "cell_type": "code",
   "execution_count": 191,
   "metadata": {},
   "outputs": [
    {
     "name": "stderr",
     "output_type": "stream",
     "text": [
      "C:\\Users\\rodri\\AppData\\Local\\Temp\\ipykernel_10444\\531903386.py:1: FutureWarning: The default value of numeric_only in DataFrame.mean is deprecated. In a future version, it will default to False. In addition, specifying 'numeric_only=None' is deprecated. Select only valid columns or specify the value of numeric_only to silence this warning.\n",
      "  data.mean()\n"
     ]
    },
    {
     "data": {
      "text/plain": [
       "SepalLenght    5.843333\n",
       "SepalWidth     3.054000\n",
       "PetalLength    3.758667\n",
       "PetalWidth     1.198667\n",
       "dtype: float64"
      ]
     },
     "execution_count": 191,
     "metadata": {},
     "output_type": "execute_result"
    }
   ],
   "source": [
    "data.mean()"
   ]
  },
  {
   "cell_type": "code",
   "execution_count": 192,
   "metadata": {},
   "outputs": [
    {
     "name": "stderr",
     "output_type": "stream",
     "text": [
      "C:\\Users\\rodri\\AppData\\Local\\Temp\\ipykernel_10444\\2723740006.py:1: FutureWarning: The default value of numeric_only in DataFrame.std is deprecated. In a future version, it will default to False. In addition, specifying 'numeric_only=None' is deprecated. Select only valid columns or specify the value of numeric_only to silence this warning.\n",
      "  data.std()\n"
     ]
    },
    {
     "data": {
      "text/plain": [
       "SepalLenght    0.828066\n",
       "SepalWidth     0.433594\n",
       "PetalLength    1.764420\n",
       "PetalWidth     0.763161\n",
       "dtype: float64"
      ]
     },
     "execution_count": 192,
     "metadata": {},
     "output_type": "execute_result"
    }
   ],
   "source": [
    "data.std()"
   ]
  }
 ],
 "metadata": {
  "kernelspec": {
   "display_name": "Python 3.9.10 64-bit",
   "language": "python",
   "name": "python3"
  },
  "language_info": {
   "codemirror_mode": {
    "name": "ipython",
    "version": 3
   },
   "file_extension": ".py",
   "mimetype": "text/x-python",
   "name": "python",
   "nbconvert_exporter": "python",
   "pygments_lexer": "ipython3",
   "version": "3.9.0"
  },
  "orig_nbformat": 4,
  "vscode": {
   "interpreter": {
    "hash": "98b9776bb1c906ffea5885633daef92fdfff9bdc53a036d784e355cfb10fec4f"
   }
  }
 },
 "nbformat": 4,
 "nbformat_minor": 2
}
