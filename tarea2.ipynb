{
 "cells": [
  {
   "cell_type": "code",
   "execution_count": 107,
   "metadata": {},
   "outputs": [
    {
     "name": "stdout",
     "output_type": "stream",
     "text": [
      "Requirement already satisfied: scikit-learn in c:\\users\\abelb\\appdata\\local\\packages\\pythonsoftwarefoundation.python.3.10_qbz5n2kfra8p0\\localcache\\local-packages\\python310\\site-packages (1.1.3)\n",
      "Requirement already satisfied: scipy>=1.3.2 in c:\\users\\abelb\\appdata\\local\\packages\\pythonsoftwarefoundation.python.3.10_qbz5n2kfra8p0\\localcache\\local-packages\\python310\\site-packages (from scikit-learn) (1.9.3)\n",
      "Requirement already satisfied: threadpoolctl>=2.0.0 in c:\\users\\abelb\\appdata\\local\\packages\\pythonsoftwarefoundation.python.3.10_qbz5n2kfra8p0\\localcache\\local-packages\\python310\\site-packages (from scikit-learn) (3.1.0)\n",
      "Requirement already satisfied: joblib>=1.0.0 in c:\\users\\abelb\\appdata\\local\\packages\\pythonsoftwarefoundation.python.3.10_qbz5n2kfra8p0\\localcache\\local-packages\\python310\\site-packages (from scikit-learn) (1.2.0)\n",
      "Requirement already satisfied: numpy>=1.17.3 in c:\\users\\abelb\\appdata\\local\\packages\\pythonsoftwarefoundation.python.3.10_qbz5n2kfra8p0\\localcache\\local-packages\\python310\\site-packages (from scikit-learn) (1.23.5)\n",
      "Note: you may need to restart the kernel to use updated packages.\n"
     ]
    },
    {
     "name": "stderr",
     "output_type": "stream",
     "text": [
      "\n",
      "[notice] A new release of pip available: 22.2.2 -> 22.3.1\n",
      "[notice] To update, run: C:\\Users\\abelb\\AppData\\Local\\Microsoft\\WindowsApps\\PythonSoftwareFoundation.Python.3.10_qbz5n2kfra8p0\\python.exe -m pip install --upgrade pip\n"
     ]
    }
   ],
   "source": [
    "%pip install scikit-learn"
   ]
  },
  {
   "cell_type": "markdown",
   "metadata": {},
   "source": [
    "*2.- CNN PREDICCION*"
   ]
  },
  {
   "cell_type": "code",
   "execution_count": 108,
   "metadata": {},
   "outputs": [],
   "source": [
    "import numpy as np\n",
    "import pandas as pd\n",
    "import pathlib\n",
    "import os\n",
    "\n",
    "from sklearn.model_selection import train_test_split\n",
    "import matplotlib.pyplot as plt\n",
    "\n",
    "import tensorflow as tf\n",
    "\n",
    "from sklearn.metrics import r2_score"
   ]
  },
  {
   "cell_type": "markdown",
   "metadata": {},
   "source": [
    "*PREPARACION DEL ENTORNO PARA LA CREACION DE LA CNN*"
   ]
  },
  {
   "cell_type": "code",
   "execution_count": 109,
   "metadata": {},
   "outputs": [],
   "source": [
    "#Se busca y se obtienen los path de las imagenes a utilizar en la CNN.\n",
    "img_paths = ['images/img2/{}'.format(img) for img in os.listdir('./images/img2/')]"
   ]
  },
  {
   "cell_type": "code",
   "execution_count": 110,
   "metadata": {},
   "outputs": [
    {
     "data": {
      "text/html": [
       "<div>\n",
       "<style scoped>\n",
       "    .dataframe tbody tr th:only-of-type {\n",
       "        vertical-align: middle;\n",
       "    }\n",
       "\n",
       "    .dataframe tbody tr th {\n",
       "        vertical-align: top;\n",
       "    }\n",
       "\n",
       "    .dataframe thead th {\n",
       "        text-align: right;\n",
       "    }\n",
       "</style>\n",
       "<table border=\"1\" class=\"dataframe\">\n",
       "  <thead>\n",
       "    <tr style=\"text-align: right;\">\n",
       "      <th></th>\n",
       "      <th>SepalLengthCm</th>\n",
       "      <th>SepalWidthCm</th>\n",
       "      <th>PetalLengthCm</th>\n",
       "      <th>PetalWidthCm</th>\n",
       "    </tr>\n",
       "  </thead>\n",
       "  <tbody>\n",
       "    <tr>\n",
       "      <th>0</th>\n",
       "      <td>5.1</td>\n",
       "      <td>3.5</td>\n",
       "      <td>1.4</td>\n",
       "      <td>0.2</td>\n",
       "    </tr>\n",
       "    <tr>\n",
       "      <th>1</th>\n",
       "      <td>4.9</td>\n",
       "      <td>3.0</td>\n",
       "      <td>1.4</td>\n",
       "      <td>0.2</td>\n",
       "    </tr>\n",
       "    <tr>\n",
       "      <th>2</th>\n",
       "      <td>4.7</td>\n",
       "      <td>3.2</td>\n",
       "      <td>1.3</td>\n",
       "      <td>0.2</td>\n",
       "    </tr>\n",
       "    <tr>\n",
       "      <th>3</th>\n",
       "      <td>4.6</td>\n",
       "      <td>3.1</td>\n",
       "      <td>1.5</td>\n",
       "      <td>0.2</td>\n",
       "    </tr>\n",
       "    <tr>\n",
       "      <th>4</th>\n",
       "      <td>5.0</td>\n",
       "      <td>3.6</td>\n",
       "      <td>1.4</td>\n",
       "      <td>0.2</td>\n",
       "    </tr>\n",
       "    <tr>\n",
       "      <th>...</th>\n",
       "      <td>...</td>\n",
       "      <td>...</td>\n",
       "      <td>...</td>\n",
       "      <td>...</td>\n",
       "    </tr>\n",
       "    <tr>\n",
       "      <th>145</th>\n",
       "      <td>6.7</td>\n",
       "      <td>3.0</td>\n",
       "      <td>5.2</td>\n",
       "      <td>2.3</td>\n",
       "    </tr>\n",
       "    <tr>\n",
       "      <th>146</th>\n",
       "      <td>6.3</td>\n",
       "      <td>2.5</td>\n",
       "      <td>5.0</td>\n",
       "      <td>1.9</td>\n",
       "    </tr>\n",
       "    <tr>\n",
       "      <th>147</th>\n",
       "      <td>6.5</td>\n",
       "      <td>3.0</td>\n",
       "      <td>5.2</td>\n",
       "      <td>2.0</td>\n",
       "    </tr>\n",
       "    <tr>\n",
       "      <th>148</th>\n",
       "      <td>6.2</td>\n",
       "      <td>3.4</td>\n",
       "      <td>5.4</td>\n",
       "      <td>2.3</td>\n",
       "    </tr>\n",
       "    <tr>\n",
       "      <th>149</th>\n",
       "      <td>5.9</td>\n",
       "      <td>3.0</td>\n",
       "      <td>5.1</td>\n",
       "      <td>1.8</td>\n",
       "    </tr>\n",
       "  </tbody>\n",
       "</table>\n",
       "<p>150 rows × 4 columns</p>\n",
       "</div>"
      ],
      "text/plain": [
       "     SepalLengthCm  SepalWidthCm  PetalLengthCm  PetalWidthCm\n",
       "0              5.1           3.5            1.4           0.2\n",
       "1              4.9           3.0            1.4           0.2\n",
       "2              4.7           3.2            1.3           0.2\n",
       "3              4.6           3.1            1.5           0.2\n",
       "4              5.0           3.6            1.4           0.2\n",
       "..             ...           ...            ...           ...\n",
       "145            6.7           3.0            5.2           2.3\n",
       "146            6.3           2.5            5.0           1.9\n",
       "147            6.5           3.0            5.2           2.0\n",
       "148            6.2           3.4            5.4           2.3\n",
       "149            5.9           3.0            5.1           1.8\n",
       "\n",
       "[150 rows x 4 columns]"
      ]
     },
     "execution_count": 110,
     "metadata": {},
     "output_type": "execute_result"
    }
   ],
   "source": [
    "#Se lee el csv que contiene los parametros de las flores Iris.\n",
    "dataset = pd.read_csv('./csv/Iris.csv').drop([\"Id\", \"Species\"], axis=1)\n",
    "\n",
    "dataset"
   ]
  },
  {
   "cell_type": "code",
   "execution_count": 111,
   "metadata": {},
   "outputs": [],
   "source": [
    "#Se crea objeto Dataframe con pandas para contener y combinar todos los parametros de las flores para cada flor. La referencia de la flor es el path de esta.\n",
    "data = pd.DataFrame({\n",
    "    \"Filepath\": [x for x in img_paths],\n",
    "    \"SepalLenght\": dataset[\"SepalLengthCm\"],\n",
    "    \"SepalWidth\": dataset[\"SepalWidthCm\"],\n",
    "    \"PetalLength\": dataset[\"PetalLengthCm\"],\n",
    "    \"PetalWidth\": dataset[\"PetalWidthCm\"]\n",
    "})"
   ]
  },
  {
   "cell_type": "markdown",
   "metadata": {},
   "source": [
    "*SEPARACION DE LA DATA EN ENTRENAMIENTO, VALIDACION Y TESTEO*"
   ]
  },
  {
   "cell_type": "code",
   "execution_count": 112,
   "metadata": {},
   "outputs": [],
   "source": [
    "#Se randomiza el objeto Dataframe llamado data.\n",
    "image_df = data.sample(150, random_state=1).reset_index(drop=True)\n",
    "\n",
    "#Aca, se realiza el split para separar la data contenida en image_df, 70% del contenido en la variable train_df destinada al entrenamiento \n",
    "#y el 30% restante del contenido en la variable test_df destinada al testeo.\n",
    "train_df, test_df = train_test_split(image_df, train_size=0.7, shuffle=True, random_state=1)"
   ]
  },
  {
   "cell_type": "code",
   "execution_count": 113,
   "metadata": {},
   "outputs": [],
   "source": [
    "#En este apartado se crean los generadores que daran origen a la data de entrenamiento y testeo. Importante destacar que el 70% de la data destinada al \n",
    "#entrenamiento se separa en un 20% para la validacion del modelo y el 80% restante es el que se conserva para el entrenamiento del modelo.\n",
    "\n",
    "train_generator = tf.keras.preprocessing.image.ImageDataGenerator(\n",
    "    rescale=1./255,\n",
    "    validation_split=0.2\n",
    ")\n",
    "\n",
    "test_generator = tf.keras.preprocessing.image.ImageDataGenerator(\n",
    "    rescale=1./255\n",
    ")"
   ]
  },
  {
   "cell_type": "code",
   "execution_count": 114,
   "metadata": {},
   "outputs": [
    {
     "data": {
      "text/html": [
       "<div>\n",
       "<style scoped>\n",
       "    .dataframe tbody tr th:only-of-type {\n",
       "        vertical-align: middle;\n",
       "    }\n",
       "\n",
       "    .dataframe tbody tr th {\n",
       "        vertical-align: top;\n",
       "    }\n",
       "\n",
       "    .dataframe thead th {\n",
       "        text-align: right;\n",
       "    }\n",
       "</style>\n",
       "<table border=\"1\" class=\"dataframe\">\n",
       "  <thead>\n",
       "    <tr style=\"text-align: right;\">\n",
       "      <th></th>\n",
       "      <th>Filepath</th>\n",
       "      <th>SepalLenght</th>\n",
       "      <th>SepalWidth</th>\n",
       "      <th>PetalLength</th>\n",
       "      <th>PetalWidth</th>\n",
       "    </tr>\n",
       "  </thead>\n",
       "  <tbody>\n",
       "    <tr>\n",
       "      <th>118</th>\n",
       "      <td>images/img2/iris-virginica-7.png</td>\n",
       "      <td>6.5</td>\n",
       "      <td>3.0</td>\n",
       "      <td>5.2</td>\n",
       "      <td>2.0</td>\n",
       "    </tr>\n",
       "    <tr>\n",
       "      <th>18</th>\n",
       "      <td>images/img2/iris-setosa-38.png</td>\n",
       "      <td>5.4</td>\n",
       "      <td>3.4</td>\n",
       "      <td>1.5</td>\n",
       "      <td>0.4</td>\n",
       "    </tr>\n",
       "    <tr>\n",
       "      <th>4</th>\n",
       "      <td>images/img2/iris-virginica-38.png</td>\n",
       "      <td>7.9</td>\n",
       "      <td>3.8</td>\n",
       "      <td>6.4</td>\n",
       "      <td>2.0</td>\n",
       "    </tr>\n",
       "    <tr>\n",
       "      <th>45</th>\n",
       "      <td>images/img2/iris-virginica-26.png</td>\n",
       "      <td>7.7</td>\n",
       "      <td>2.6</td>\n",
       "      <td>6.9</td>\n",
       "      <td>2.3</td>\n",
       "    </tr>\n",
       "    <tr>\n",
       "      <th>59</th>\n",
       "      <td>images/img2/iris-versicolor-50.png</td>\n",
       "      <td>5.7</td>\n",
       "      <td>3.0</td>\n",
       "      <td>4.2</td>\n",
       "      <td>1.2</td>\n",
       "    </tr>\n",
       "    <tr>\n",
       "      <th>...</th>\n",
       "      <td>...</td>\n",
       "      <td>...</td>\n",
       "      <td>...</td>\n",
       "      <td>...</td>\n",
       "      <td>...</td>\n",
       "    </tr>\n",
       "    <tr>\n",
       "      <th>133</th>\n",
       "      <td>images/img2/iris-setosa-16.png</td>\n",
       "      <td>5.0</td>\n",
       "      <td>3.4</td>\n",
       "      <td>1.5</td>\n",
       "      <td>0.2</td>\n",
       "    </tr>\n",
       "    <tr>\n",
       "      <th>137</th>\n",
       "      <td>images/img2/iris-versicolor-1.png</td>\n",
       "      <td>7.0</td>\n",
       "      <td>3.2</td>\n",
       "      <td>4.7</td>\n",
       "      <td>1.4</td>\n",
       "    </tr>\n",
       "    <tr>\n",
       "      <th>72</th>\n",
       "      <td>images/img2/iris-virginica-44.png</td>\n",
       "      <td>6.0</td>\n",
       "      <td>3.0</td>\n",
       "      <td>4.8</td>\n",
       "      <td>1.8</td>\n",
       "    </tr>\n",
       "    <tr>\n",
       "      <th>140</th>\n",
       "      <td>images/img2/iris-setosa-32.png</td>\n",
       "      <td>5.0</td>\n",
       "      <td>3.0</td>\n",
       "      <td>1.6</td>\n",
       "      <td>0.2</td>\n",
       "    </tr>\n",
       "    <tr>\n",
       "      <th>37</th>\n",
       "      <td>images/img2/iris-setosa-35.png</td>\n",
       "      <td>5.2</td>\n",
       "      <td>3.4</td>\n",
       "      <td>1.4</td>\n",
       "      <td>0.2</td>\n",
       "    </tr>\n",
       "  </tbody>\n",
       "</table>\n",
       "<p>105 rows × 5 columns</p>\n",
       "</div>"
      ],
      "text/plain": [
       "                               Filepath  SepalLenght  SepalWidth  PetalLength  \\\n",
       "118    images/img2/iris-virginica-7.png          6.5         3.0          5.2   \n",
       "18       images/img2/iris-setosa-38.png          5.4         3.4          1.5   \n",
       "4     images/img2/iris-virginica-38.png          7.9         3.8          6.4   \n",
       "45    images/img2/iris-virginica-26.png          7.7         2.6          6.9   \n",
       "59   images/img2/iris-versicolor-50.png          5.7         3.0          4.2   \n",
       "..                                  ...          ...         ...          ...   \n",
       "133      images/img2/iris-setosa-16.png          5.0         3.4          1.5   \n",
       "137   images/img2/iris-versicolor-1.png          7.0         3.2          4.7   \n",
       "72    images/img2/iris-virginica-44.png          6.0         3.0          4.8   \n",
       "140      images/img2/iris-setosa-32.png          5.0         3.0          1.6   \n",
       "37       images/img2/iris-setosa-35.png          5.2         3.4          1.4   \n",
       "\n",
       "     PetalWidth  \n",
       "118         2.0  \n",
       "18          0.4  \n",
       "4           2.0  \n",
       "45          2.3  \n",
       "59          1.2  \n",
       "..          ...  \n",
       "133         0.2  \n",
       "137         1.4  \n",
       "72          1.8  \n",
       "140         0.2  \n",
       "37          0.2  \n",
       "\n",
       "[105 rows x 5 columns]"
      ]
     },
     "execution_count": 114,
     "metadata": {},
     "output_type": "execute_result"
    }
   ],
   "source": [
    "train_df"
   ]
  },
  {
   "cell_type": "markdown",
   "metadata": {},
   "source": [
    "*DATA YA SEPARADA CREADA PARA LO QUE RESPECTA AL ENTRENAMIENTO, VALIDACION Y TESTEO DE LA CNN*"
   ]
  },
  {
   "cell_type": "code",
   "execution_count": 115,
   "metadata": {},
   "outputs": [
    {
     "name": "stdout",
     "output_type": "stream",
     "text": [
      "Found 84 validated image filenames.\n",
      "Found 21 validated image filenames.\n",
      "Found 45 validated image filenames.\n"
     ]
    }
   ],
   "source": [
    "#Se crean las variables train_images, val_images y test_images, las cuales se crean con sus respectivos generadores, se les define a cada una sus dataframe,\n",
    "#sus columnas, tamano del target, entre otras. Interesante comentar que el dataframe de val_images es train_df al igual que el del train_images ya que val_images esta\n",
    "#destinado a validar con los mismos datos de entrenamiento el modelo, con esto se asegura de que el modelo sieste aprendiendo.\n",
    "\n",
    "train_images = train_generator.flow_from_dataframe(\n",
    "    dataframe=train_df,\n",
    "    x_col='Filepath',\n",
    "    y_col=['SepalLenght', 'SepalWidth', 'PetalLength', 'PetalWidth'],\n",
    "    target_size=(256, 256),\n",
    "    color_mode='rgb',\n",
    "    class_mode='raw',\n",
    "    batch_size=32,\n",
    "    shuffle=True,\n",
    "    seed=42,\n",
    "    subset='training'\n",
    ")\n",
    "\n",
    "val_images = train_generator.flow_from_dataframe(\n",
    "    dataframe=train_df,\n",
    "    x_col='Filepath',\n",
    "    y_col=['SepalLenght', 'SepalWidth', 'PetalLength', 'PetalWidth'],\n",
    "    target_size=(256, 256),\n",
    "    color_mode='rgb',\n",
    "    class_mode='raw',\n",
    "    batch_size=32,\n",
    "    shuffle=True,\n",
    "    seed=42,\n",
    "    subset='validation'\n",
    ")\n",
    "\n",
    "test_images = test_generator.flow_from_dataframe(\n",
    "    dataframe=test_df,\n",
    "    x_col='Filepath',\n",
    "    y_col=['SepalLenght', 'SepalWidth', 'PetalLength', 'PetalWidth'],\n",
    "    target_size=(256, 256),\n",
    "    color_mode='rgb',\n",
    "    class_mode='raw',\n",
    "    batch_size=32,\n",
    "    shuffle=False\n",
    ")"
   ]
  },
  {
   "cell_type": "markdown",
   "metadata": {},
   "source": [
    "*ENTRENAMIENTO DE LA CNN CON SUS RESPECTIVAS CAPAS CREADAS*"
   ]
  },
  {
   "cell_type": "code",
   "execution_count": 116,
   "metadata": {},
   "outputs": [
    {
     "name": "stdout",
     "output_type": "stream",
     "text": [
      "Epoch 1/15\n",
      "3/3 [==============================] - 6s 1s/step - loss: 15.2041 - val_loss: 15.8856\n",
      "Epoch 2/15\n",
      "3/3 [==============================] - 3s 1s/step - loss: 14.6406 - val_loss: 15.3237\n",
      "Epoch 3/15\n",
      "3/3 [==============================] - 3s 1s/step - loss: 13.9978 - val_loss: 14.5613\n",
      "Epoch 4/15\n",
      "3/3 [==============================] - 3s 956ms/step - loss: 13.1814 - val_loss: 13.5478\n",
      "Epoch 5/15\n",
      "3/3 [==============================] - 3s 1s/step - loss: 12.1046 - val_loss: 12.4109\n",
      "Epoch 6/15\n",
      "3/3 [==============================] - 3s 1s/step - loss: 10.8753 - val_loss: 11.5696\n",
      "Epoch 7/15\n",
      "3/3 [==============================] - 3s 953ms/step - loss: 10.4405 - val_loss: 11.5863\n",
      "Epoch 8/15\n",
      "3/3 [==============================] - 3s 937ms/step - loss: 10.5281 - val_loss: 11.6502\n",
      "Epoch 9/15\n",
      "3/3 [==============================] - 3s 1s/step - loss: 10.4896 - val_loss: 11.3686\n",
      "Epoch 10/15\n",
      "3/3 [==============================] - 3s 1s/step - loss: 10.2100 - val_loss: 11.2327\n",
      "Epoch 11/15\n",
      "3/3 [==============================] - 3s 976ms/step - loss: 10.1833 - val_loss: 11.3011\n",
      "Epoch 12/15\n",
      "3/3 [==============================] - 3s 932ms/step - loss: 10.2500 - val_loss: 11.3622\n",
      "Epoch 13/15\n",
      "3/3 [==============================] - 3s 1000ms/step - loss: 10.2739 - val_loss: 11.3233\n",
      "Epoch 14/15\n",
      "3/3 [==============================] - 3s 1s/step - loss: 10.2120 - val_loss: 11.2437\n",
      "Epoch 15/15\n",
      "3/3 [==============================] - 3s 944ms/step - loss: 10.1606 - val_loss: 11.2167\n"
     ]
    }
   ],
   "source": [
    "#Se definen las capas de la CNN, siendo estas las vistas en clases. \n",
    "#Convolution, con un tamano de kernel definido, un filtro y la funcion de activacion relu.\n",
    "#Pooling del tipo Maxpooling.\n",
    "#Como ultima capa,se crea Dense, con la funcion de activacion relu.\n",
    "#Por supuesto, esta la zona de Input y la zona de Output con la funcion de activacion relu.\n",
    "\n",
    "inputs = tf.keras.Input(shape=(256, 256, 3))\n",
    "x = tf.keras.layers.Conv2D(filters=16, kernel_size=(3, 3), activation='relu')(inputs)\n",
    "x = tf.keras.layers.MaxPool2D()(x)\n",
    "x = tf.keras.layers.Conv2D(filters=32, kernel_size=(3, 3), activation='relu')(x)\n",
    "x = tf.keras.layers.MaxPool2D()(x)\n",
    "x = tf.keras.layers.GlobalAveragePooling2D()(x)\n",
    "x = tf.keras.layers.Dense(64, activation='relu')(x)\n",
    "x = tf.keras.layers.Dense(64, activation='relu')(x)\n",
    "outputs = tf.keras.layers.Dense(4, activation='relu')(x)\n",
    "\n",
    "#Se declara el modelo construido con su zona input y output correspondiente.\n",
    "model = tf.keras.Model(inputs=inputs, outputs=outputs)\n",
    "\n",
    "#Nose que se hace aca.\n",
    "model.compile(\n",
    "    optimizer='adam',\n",
    "    loss='mse'\n",
    ")\n",
    "\n",
    "#Se procede a realizar el entrenamiento del modelo con la funcion fit. Con la data de entrenamiento y validacion, con una cantidad de epocas definidas y una \n",
    "#funcionalidad callback para poder visualizar por consola el comportamiento del modelo mientras se entrena.\n",
    "history = model.fit(\n",
    "    train_images,\n",
    "    validation_data=val_images,\n",
    "    epochs=15,\n",
    ")"
   ]
  },
  {
   "cell_type": "code",
   "execution_count": 117,
   "metadata": {},
   "outputs": [
    {
     "data": {
      "text/plain": [
       "<matplotlib.legend.Legend at 0x2165a6ed330>"
      ]
     },
     "execution_count": 117,
     "metadata": {},
     "output_type": "execute_result"
    },
    {
     "data": {
      "image/png": "[encoded data removed]",
      "text/plain": [
       "<Figure size 640x480 with 1 Axes>"
      ]
     },
     "metadata": {},
     "output_type": "display_data"
    }
   ],
   "source": [
    "## validation loss and accuracy \n",
    "plt.plot(history.history['loss'], label = 'train loss')\n",
    "#plt.plot(history.history['accuracy'], label = 'train accuracy')\n",
    "plt.legend()"
   ]
  },
  {
   "cell_type": "code",
   "execution_count": 118,
   "metadata": {},
   "outputs": [
    {
     "data": {
      "text/plain": [
       "<matplotlib.legend.Legend at 0x2165c5e2fe0>"
      ]
     },
     "execution_count": 118,
     "metadata": {},
     "output_type": "execute_result"
    },
    {
     "data": {
      "image/png": "[encoded data removed]",
      "text/plain": [
       "<Figure size 640x480 with 1 Axes>"
      ]
     },
     "metadata": {},
     "output_type": "display_data"
    }
   ],
   "source": [
    "plt.plot(history.history['val_loss'], label = 'validation_loss')\n",
    "#plt.plot(history.history['val_accuracy'], label = 'validation accuracy')\n",
    "plt.legend()"
   ]
  },
  {
   "cell_type": "code",
   "execution_count": 119,
   "metadata": {},
   "outputs": [
    {
     "name": "stdout",
     "output_type": "stream",
     "text": [
      "14     images/img2/iris-versicolor-35.png\n",
      "98      images/img2/iris-virginica-18.png\n",
      "75     images/img2/iris-versicolor-31.png\n",
      "16     images/img2/iris-versicolor-48.png\n",
      "131     images/img2/iris-versicolor-2.png\n",
      "56      images/img2/iris-virginica-33.png\n",
      "141     images/img2/iris-virginica-40.png\n",
      "44     images/img2/iris-versicolor-17.png\n",
      "29       images/img2/iris-virginica-6.png\n",
      "120         images/img2/iris-setosa-7.png\n",
      "94      images/img2/iris-virginica-14.png\n",
      "5      images/img2/iris-versicolor-15.png\n",
      "102        images/img2/iris-setosa-47.png\n",
      "51         images/img2/iris-setosa-42.png\n",
      "78       images/img2/iris-virginica-1.png\n",
      "42      images/img2/iris-virginica-27.png\n",
      "92      images/img2/iris-virginica-37.png\n",
      "66         images/img2/iris-setosa-15.png\n",
      "31      images/img2/iris-virginica-41.png\n",
      "35          images/img2/iris-setosa-8.png\n",
      "90     images/img2/iris-versicolor-25.png\n",
      "84         images/img2/iris-setosa-44.png\n",
      "77     images/img2/iris-versicolor-49.png\n",
      "40      images/img2/iris-virginica-20.png\n",
      "125    images/img2/iris-versicolor-38.png\n",
      "99     images/img2/iris-versicolor-22.png\n",
      "33      images/img2/iris-virginica-35.png\n",
      "19         images/img2/iris-setosa-41.png\n",
      "73          images/img2/iris-setosa-6.png\n",
      "146     images/img2/iris-virginica-43.png\n",
      "91         images/img2/iris-setosa-18.png\n",
      "135     images/img2/iris-versicolor-6.png\n",
      "69     images/img2/iris-versicolor-23.png\n",
      "128        images/img2/iris-setosa-10.png\n",
      "114    images/img2/iris-versicolor-28.png\n",
      "48         images/img2/iris-setosa-50.png\n",
      "53      images/img2/iris-virginica-45.png\n",
      "28     images/img2/iris-versicolor-30.png\n",
      "54      images/img2/iris-virginica-16.png\n",
      "108        images/img2/iris-setosa-31.png\n",
      "112         images/img2/iris-setosa-9.png\n",
      "17     images/img2/iris-versicolor-24.png\n",
      "119     images/img2/iris-virginica-15.png\n",
      "103    images/img2/iris-versicolor-37.png\n",
      "58       images/img2/iris-virginica-3.png\n",
      "Name: Filepath, dtype: object\n"
     ]
    }
   ],
   "source": [
    "#test_images\n",
    "print(test_df['Filepath'])"
   ]
  },
  {
   "cell_type": "markdown",
   "metadata": {},
   "source": [
    "*RESULTADOS DE LA PREDICCION DE LA CNN*"
   ]
  },
  {
   "cell_type": "code",
   "execution_count": 120,
   "metadata": {},
   "outputs": [
    {
     "name": "stdout",
     "output_type": "stream",
     "text": [
      "14     images/img2/iris-versicolor-35.png\n",
      "98      images/img2/iris-virginica-18.png\n",
      "75     images/img2/iris-versicolor-31.png\n",
      "16     images/img2/iris-versicolor-48.png\n",
      "131     images/img2/iris-versicolor-2.png\n",
      "56      images/img2/iris-virginica-33.png\n",
      "141     images/img2/iris-virginica-40.png\n",
      "44     images/img2/iris-versicolor-17.png\n",
      "29       images/img2/iris-virginica-6.png\n",
      "120         images/img2/iris-setosa-7.png\n",
      "94      images/img2/iris-virginica-14.png\n",
      "5      images/img2/iris-versicolor-15.png\n",
      "102        images/img2/iris-setosa-47.png\n",
      "51         images/img2/iris-setosa-42.png\n",
      "78       images/img2/iris-virginica-1.png\n",
      "42      images/img2/iris-virginica-27.png\n",
      "92      images/img2/iris-virginica-37.png\n",
      "66         images/img2/iris-setosa-15.png\n",
      "31      images/img2/iris-virginica-41.png\n",
      "35          images/img2/iris-setosa-8.png\n",
      "90     images/img2/iris-versicolor-25.png\n",
      "84         images/img2/iris-setosa-44.png\n",
      "77     images/img2/iris-versicolor-49.png\n",
      "40      images/img2/iris-virginica-20.png\n",
      "125    images/img2/iris-versicolor-38.png\n",
      "99     images/img2/iris-versicolor-22.png\n",
      "33      images/img2/iris-virginica-35.png\n",
      "19         images/img2/iris-setosa-41.png\n",
      "73          images/img2/iris-setosa-6.png\n",
      "146     images/img2/iris-virginica-43.png\n",
      "91         images/img2/iris-setosa-18.png\n",
      "135     images/img2/iris-versicolor-6.png\n",
      "69     images/img2/iris-versicolor-23.png\n",
      "128        images/img2/iris-setosa-10.png\n",
      "114    images/img2/iris-versicolor-28.png\n",
      "48         images/img2/iris-setosa-50.png\n",
      "53      images/img2/iris-virginica-45.png\n",
      "28     images/img2/iris-versicolor-30.png\n",
      "54      images/img2/iris-virginica-16.png\n",
      "108        images/img2/iris-setosa-31.png\n",
      "112         images/img2/iris-setosa-9.png\n",
      "17     images/img2/iris-versicolor-24.png\n",
      "119     images/img2/iris-virginica-15.png\n",
      "103    images/img2/iris-versicolor-37.png\n",
      "58       images/img2/iris-virginica-3.png\n",
      "Name: Filepath, dtype: object\n"
     ]
    }
   ],
   "source": [
    "#Path de las imagenes utilizadas para el testeo de la CNN.\n",
    "print(test_df['Filepath'] )"
   ]
  },
  {
   "cell_type": "code",
   "execution_count": 121,
   "metadata": {},
   "outputs": [
    {
     "name": "stdout",
     "output_type": "stream",
     "text": [
      "2/2 [==============================] - 2s 113ms/step\n",
      "[[0.        2.889856  3.620141  0.       ]\n",
      " [0.        1.9729363 2.4892852 0.       ]\n",
      " [0.        3.0303257 3.791366  0.       ]\n",
      " [0.        3.146429  3.940761  0.       ]\n",
      " [0.        3.066387  3.8391109 0.       ]\n",
      " [0.        2.158619  2.7189708 0.       ]\n",
      " [0.        3.7252877 4.6582656 0.       ]\n",
      " [0.        3.0129364 3.7671518 0.       ]\n",
      " [0.        2.6939538 3.3880763 0.       ]\n",
      " [0.        3.2868621 4.10726   0.       ]\n",
      " [0.        2.8358517 3.5599337 0.       ]\n",
      " [0.        2.8971188 3.624514  0.       ]\n",
      " [0.        2.8807266 3.6131139 0.       ]\n",
      " [0.        2.1938126 2.7620852 0.       ]\n",
      " [0.        2.748611  3.4417183 0.       ]\n",
      " [0.        3.7582333 4.6996293 0.       ]\n",
      " [0.        2.9397247 3.6762166 0.       ]\n",
      " [0.        2.632187  3.292942  0.       ]\n",
      " [0.        2.037821  2.5621674 0.       ]\n",
      " [0.        3.5292146 4.4153256 0.       ]\n",
      " [0.        3.0809085 3.8563347 0.       ]\n",
      " [0.        3.0246637 3.789929  0.       ]\n",
      " [0.        1.9241283 2.423697  0.       ]\n",
      " [0.        2.6478136 3.3189058 0.       ]\n",
      " [0.        3.0086777 3.7741437 0.       ]\n",
      " [0.        2.458032  3.0870366 0.       ]\n",
      " [0.        3.3236    4.1677427 0.       ]\n",
      " [0.        3.1491365 3.9405355 0.       ]\n",
      " [0.        1.9253811 2.4263024 0.       ]\n",
      " [0.        2.9589126 3.7141323 0.       ]\n",
      " [0.        3.2257366 4.0278673 0.       ]\n",
      " [0.        3.2151678 4.027374  0.       ]\n",
      " [0.        2.6768687 3.3603215 0.       ]\n",
      " [0.        2.810787  3.5232043 0.       ]\n",
      " [0.        2.9748547 3.7234163 0.       ]\n",
      " [0.        3.292486  4.1128473 0.       ]\n",
      " [0.        3.1224134 3.9121614 0.       ]\n",
      " [0.        3.9628947 4.9455333 0.       ]\n",
      " [0.        3.070041  3.8421292 0.       ]\n",
      " [0.        3.2487326 4.0572405 0.       ]\n",
      " [0.        2.9184458 3.6543927 0.       ]\n",
      " [0.        3.296718  4.1270576 0.       ]\n",
      " [0.        2.9908087 3.7435331 0.       ]\n",
      " [0.        3.185118  3.9818459 0.       ]\n",
      " [0.        2.8996933 3.6312969 0.       ]]\n"
     ]
    }
   ],
   "source": [
    "#Se le entrega al modelo la variable que contiene las imagenes a utilizar en el testeo de la CNN. Como resultado, entrega los parametros predichos \n",
    "#correspondientes a los path de las imagenes que se le entregan como referencia.\n",
    "print(model.predict(test_images))"
   ]
  },
  {
   "cell_type": "markdown",
   "metadata": {},
   "source": [
    "Con respecto a los resultados predichos, primero se realizo un analisis de cada parametro predicho con los que contiene el dataset Iris.csv.\n",
    "\n",
    "1.- SepalLenght, los valores estan contenidos entre [4.3 , 7.9], entonces, si observamos los resultados, hay algunos que se escapan de los margenes, sobretodo menores a 4.3, esto es un fallo del modelo pero aun asi es en la minoria de los casos, por lo tanto el modelo puede ser de cierta forma creible en este aspecto.\n",
    "\n",
    "2.- SepalWidth, los valores estan contenidos entre [2.0 , 4.0], entonces, si observamos los resultados, ocurre algo similar al anterior, algunos valores se escapan de los margenes y otros los contienen, tambien ocurre que son menores al margen minimo, esto siendo parte del error del modelo, en este caso tambien son la minoria, por lo tanto el modelo puede ser de cierta forma creible en este aspecto.\n",
    "\n",
    "3.- PetalLength, los valores estan contenidos entre [ , ], entonces, si observamos los resultados,\n",
    "\n",
    "4.- PetalWidth, los valores estan contenidos entre [ , ], entonces, si observamos los resultados,"
   ]
  },
  {
   "cell_type": "code",
   "execution_count": 122,
   "metadata": {},
   "outputs": [
    {
     "ename": "FileNotFoundError",
     "evalue": "[Errno 2] No such file or directory: 'data/img2/iris-setosa-43.png'",
     "output_type": "error",
     "traceback": [
      "\u001b[1;31m---------------------------------------------------------------------------\u001b[0m",
      "\u001b[1;31mFileNotFoundError\u001b[0m                         Traceback (most recent call last)",
      "Cell \u001b[1;32mIn[122], line 1\u001b[0m\n\u001b[1;32m----> 1\u001b[0m img \u001b[39m=\u001b[39m tf\u001b[39m.\u001b[39;49mkeras\u001b[39m.\u001b[39;49mpreprocessing\u001b[39m.\u001b[39;49mimage\u001b[39m.\u001b[39;49mload_img(\u001b[39m'\u001b[39;49m\u001b[39mdata/img2/iris-setosa-43.png\u001b[39;49m\u001b[39m'\u001b[39;49m, target_size\u001b[39m=\u001b[39;49m(\u001b[39m256\u001b[39;49m,\u001b[39m256\u001b[39;49m))\n\u001b[0;32m      2\u001b[0m img \u001b[39m=\u001b[39m tf\u001b[39m.\u001b[39mkeras\u001b[39m.\u001b[39mpreprocessing\u001b[39m.\u001b[39mimage\u001b[39m.\u001b[39mimg_to_array(img)\n\u001b[0;32m      3\u001b[0m img \u001b[39m=\u001b[39m np\u001b[39m.\u001b[39mexpand_dims(img, axis\u001b[39m=\u001b[39m\u001b[39m0\u001b[39m)\n",
      "File \u001b[1;32m~\\AppData\\Local\\Packages\\PythonSoftwareFoundation.Python.3.10_qbz5n2kfra8p0\\LocalCache\\local-packages\\Python310\\site-packages\\keras\\utils\\image_utils.py:422\u001b[0m, in \u001b[0;36mload_img\u001b[1;34m(path, grayscale, color_mode, target_size, interpolation, keep_aspect_ratio)\u001b[0m\n\u001b[0;32m    420\u001b[0m     \u001b[39mif\u001b[39;00m \u001b[39misinstance\u001b[39m(path, pathlib\u001b[39m.\u001b[39mPath):\n\u001b[0;32m    421\u001b[0m         path \u001b[39m=\u001b[39m \u001b[39mstr\u001b[39m(path\u001b[39m.\u001b[39mresolve())\n\u001b[1;32m--> 422\u001b[0m     \u001b[39mwith\u001b[39;00m \u001b[39mopen\u001b[39;49m(path, \u001b[39m\"\u001b[39;49m\u001b[39mrb\u001b[39;49m\u001b[39m\"\u001b[39;49m) \u001b[39mas\u001b[39;00m f:\n\u001b[0;32m    423\u001b[0m         img \u001b[39m=\u001b[39m pil_image\u001b[39m.\u001b[39mopen(io\u001b[39m.\u001b[39mBytesIO(f\u001b[39m.\u001b[39mread()))\n\u001b[0;32m    424\u001b[0m \u001b[39melse\u001b[39;00m:\n",
      "\u001b[1;31mFileNotFoundError\u001b[0m: [Errno 2] No such file or directory: 'data/img2/iris-setosa-43.png'"
     ]
    }
   ],
   "source": [
    "img = tf.keras.preprocessing.image.load_img('data/img2/iris-setosa-43.png', target_size=(256,256))\n",
    "img = tf.keras.preprocessing.image.img_to_array(img)\n",
    "img = np.expand_dims(img, axis=0)\n",
    "\n",
    "model.predict(img)"
   ]
  },
  {
   "cell_type": "code",
   "execution_count": null,
   "metadata": {},
   "outputs": [
    {
     "name": "stderr",
     "output_type": "stream",
     "text": [
      "C:\\Users\\rodri\\AppData\\Local\\Temp\\ipykernel_10444\\531903386.py:1: FutureWarning: The default value of numeric_only in DataFrame.mean is deprecated. In a future version, it will default to False. In addition, specifying 'numeric_only=None' is deprecated. Select only valid columns or specify the value of numeric_only to silence this warning.\n",
      "  data.mean()\n"
     ]
    },
    {
     "data": {
      "text/plain": [
       "SepalLenght    5.843333\n",
       "SepalWidth     3.054000\n",
       "PetalLength    3.758667\n",
       "PetalWidth     1.198667\n",
       "dtype: float64"
      ]
     },
     "execution_count": 191,
     "metadata": {},
     "output_type": "execute_result"
    }
   ],
   "source": [
    "data.mean()"
   ]
  },
  {
   "cell_type": "code",
   "execution_count": null,
   "metadata": {},
   "outputs": [
    {
     "name": "stderr",
     "output_type": "stream",
     "text": [
      "C:\\Users\\rodri\\AppData\\Local\\Temp\\ipykernel_10444\\2723740006.py:1: FutureWarning: The default value of numeric_only in DataFrame.std is deprecated. In a future version, it will default to False. In addition, specifying 'numeric_only=None' is deprecated. Select only valid columns or specify the value of numeric_only to silence this warning.\n",
      "  data.std()\n"
     ]
    },
    {
     "data": {
      "text/plain": [
       "SepalLenght    0.828066\n",
       "SepalWidth     0.433594\n",
       "PetalLength    1.764420\n",
       "PetalWidth     0.763161\n",
       "dtype: float64"
      ]
     },
     "execution_count": 192,
     "metadata": {},
     "output_type": "execute_result"
    }
   ],
   "source": [
    "data.std()"
   ]
  }
 ],
 "metadata": {
  "kernelspec": {
   "display_name": "Python 3.10.8 64-bit (microsoft store)",
   "language": "python",
   "name": "python3"
  },
  "language_info": {
   "codemirror_mode": {
    "name": "ipython",
    "version": 3
   },
   "file_extension": ".py",
   "mimetype": "text/x-python",
   "name": "python",
   "nbconvert_exporter": "python",
   "pygments_lexer": "ipython3",
   "version": "3.10.8"
  },
  "orig_nbformat": 4,
  "vscode": {
   "interpreter": {
    "hash": "7e12ccd0d48dbead8dd9a52023bc75b95e174d602b4f7308a88d7b25ffa9c49d"
   }
  }
 },
 "nbformat": 4,
 "nbformat_minor": 2
}
